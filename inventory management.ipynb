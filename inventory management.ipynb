{
 "cells": [
  {
   "cell_type": "code",
   "execution_count": 1,
   "id": "8694d349",
   "metadata": {},
   "outputs": [],
   "source": [
    "import json"
   ]
  },
  {
   "cell_type": "code",
   "execution_count": 22,
   "id": "c7da0c39",
   "metadata": {},
   "outputs": [],
   "source": [
    "f1=open(\"record.json\",'r')\n",
    "r=f1.read()\n",
    "f1.close()"
   ]
  },
  {
   "cell_type": "code",
   "execution_count": 23,
   "id": "c1826d55",
   "metadata": {},
   "outputs": [],
   "source": [
    "record=json.loads(r)"
   ]
  },
  {
   "cell_type": "code",
   "execution_count": 24,
   "id": "35a648b0",
   "metadata": {},
   "outputs": [
    {
     "data": {
      "text/plain": [
       "{'1001': {'name': 'sugar', 'pr': 40, 'qn': '50'},\n",
       " '1002': {'name': 'Milk Cake', 'pr': 800, 'qn': 100},\n",
       " '1003': {'name': 'Drink', 'pr': 85, 'qn': 100},\n",
       " '1004': {'name': 'Candy', 'pr': 5, 'qn': 1000},\n",
       " '1005': {'name': 'Pen', 'pr': 20, 'qn': 100},\n",
       " '1006': {'name': 'Phone', 'pr': 50000, 'qn': 10},\n",
       " '1007': {'name': 'Mic', 'pr': 1500, 'qn': 0},\n",
       " '1008': {'name': 'Case', 'pr': 599, 'qn': 5},\n",
       " '1009': {'name': 'Keyboard', 'pr': 1999, 'qn': 10}}"
      ]
     },
     "execution_count": 24,
     "metadata": {},
     "output_type": "execute_result"
    }
   ],
   "source": [
    "record"
   ]
  },
  {
   "cell_type": "markdown",
   "id": "6345eb78",
   "metadata": {},
   "source": [
    "#purchasing"
   ]
  },
  {
   "cell_type": "code",
   "execution_count": 25,
   "id": "26991eab",
   "metadata": {},
   "outputs": [
    {
     "name": "stdout",
     "output_type": "stream",
     "text": [
      "Enter product id :1001\n",
      "Enter the Quantity you want : 2\n"
     ]
    }
   ],
   "source": [
    "user_product_id=input(\"Enter product id :\")\n",
    "user_product_quantity=input(\"Enter the Quantity you want : \")"
   ]
  },
  {
   "cell_type": "code",
   "execution_count": 26,
   "id": "cc3e4eb6",
   "metadata": {},
   "outputs": [
    {
     "name": "stdout",
     "output_type": "stream",
     "text": [
      "Product id :  1001\n",
      "Product Name :  sugar\n",
      "Product Price :  40\n",
      "Quantity :  2\n",
      "Cash needed to pay :  80\n"
     ]
    }
   ],
   "source": [
    "if(user_product_quantity>record[user_product_id]['qn']):\n",
    "    print(\"sorry that much quantity is not available\")\n",
    "    \n",
    "else:\n",
    "    print(\"Product id : \",user_product_id)\n",
    "    print(\"Product Name : \",record[user_product_id]['name'])\n",
    "    print(\"Product Price : \",record[user_product_id]['pr'])\n",
    "    print(\"Quantity : \",user_product_quantity)\n",
    "    \n",
    "    print(\"Cash needed to pay : \",int (user_product_quantity)*int (record[user_product_id]['pr']))\n"
   ]
  },
  {
   "cell_type": "code",
   "execution_count": 16,
   "id": "b2c9827e",
   "metadata": {},
   "outputs": [],
   "source": [
    "record[user_product_id]['qn']=str(int(record[user_product_id]['qn'])-int(user_product_quantity))"
   ]
  },
  {
   "cell_type": "code",
   "execution_count": 30,
   "id": "c5762bb1",
   "metadata": {},
   "outputs": [],
   "source": [
    "js=json.dumps(record)\n",
    "f2=open(\"record.json\",'w')\n",
    "f2.write(js)\n",
    "f2.close()"
   ]
  },
  {
   "cell_type": "code",
   "execution_count": 33,
   "id": "da985314",
   "metadata": {},
   "outputs": [
    {
     "name": "stdout",
     "output_type": "stream",
     "text": [
      "enter the name of product : 1001\n",
      "enter quantity : 2\n"
     ]
    }
   ],
   "source": [
    "f3=open(\"sales.txt\",'a')\n",
    "pid=user_product_id\n",
    "pname=input(\"enter the name of product : \")\n",
    "pquantity=input(\"enter quantity : \")\n",
    "pamount=str(int(record[pid]['pr'])*int(pquantity))\n",
    "s=pid+\" \"+pname+\" \"+pquantity+\" \"+pamount+\",\"+\"\\n\"\n",
    "f3.write(s)\n",
    "f3.close()\n",
    "\n"
   ]
  },
  {
   "cell_type": "code",
   "execution_count": null,
   "id": "42339364",
   "metadata": {},
   "outputs": [],
   "source": []
  }
 ],
 "metadata": {
  "kernelspec": {
   "display_name": "Python 3",
   "language": "python",
   "name": "python3"
  },
  "language_info": {
   "codemirror_mode": {
    "name": "ipython",
    "version": 3
   },
   "file_extension": ".py",
   "mimetype": "text/x-python",
   "name": "python",
   "nbconvert_exporter": "python",
   "pygments_lexer": "ipython3",
   "version": "3.8.8"
  }
 },
 "nbformat": 4,
 "nbformat_minor": 5
}
